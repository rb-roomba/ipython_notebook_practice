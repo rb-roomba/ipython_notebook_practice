{
 "cells": [
  {
   "cell_type": "markdown",
   "metadata": {},
   "source": [
    "# IPython Notebookの練習"
   ]
  },
  {
   "cell_type": "markdown",
   "metadata": {},
   "source": [
    "## はじめに"
   ]
  },
  {
   "cell_type": "raw",
   "metadata": {},
   "source": [
    "IPython Notebookは、ブラウザ上でインタラクティブにPythonのプログラムを実行できる、ノートのようなものです。\n",
    "10分で最低限を学びましょう。"
   ]
  },
  {
   "cell_type": "markdown",
   "metadata": {},
   "source": [
    "## セルについて"
   ]
  },
  {
   "cell_type": "raw",
   "metadata": {},
   "source": [
    "ノートブックは「セル」から構成されています。この文章が書かれている領域も「セル」のひとつです。\n",
    "セルにはいくつかの種類があり、この文章の領域は「Raw NBConvert」であることが画面上部のツールバーから分かります。\n",
    "「Markdown」「Code」といった種類もあり、Markdown記法のテキストやPythonのコードを挿入することができるようになっています。"
   ]
  },
  {
   "cell_type": "markdown",
   "metadata": {},
   "source": [
    "たとえば、Markdown記法のセルはこの領域のようになります。\n",
    "[Markdown(Wikipedia)へのリンク](https://ja.wikipedia.org/wiki/Markdown \"Markdown - Wikipedia\")\n",
    "を挿入したり、*強調*したり、線をひいたり↓といったことが可能です。\n",
    "\n",
    "--- \n",
    "\n",
    "このノートブックの見出し（タイトルの「IPython Notebookの練習」・見出し「はじめに」「セルについて」など）もMarkdown記法のセルを用いています。"
   ]
  },
  {
   "cell_type": "raw",
   "metadata": {},
   "source": [
    "「Code」のセルでは、Pythonをその場で実行することができます。\n",
    "例えば、下のセルにカーソルを合わせた状態でShift-Enter（Shiftキーを押しながらエンターキーを押す）すると、3という数字が表示されると思います。"
   ]
  },
  {
   "cell_type": "code",
   "execution_count": 1,
   "metadata": {
    "collapsed": false
   },
   "outputs": [
    {
     "name": "stdout",
     "output_type": "stream",
     "text": [
      "3\n"
     ]
    }
   ],
   "source": [
    "print 1+2"
   ]
  },
  {
   "cell_type": "raw",
   "metadata": {},
   "source": [
    "それぞれのセルは自由に編集することができます。また、画面上部のInsertから自由に挿入することもできます。\n",
    "試しに以下のコードを編集したり、新たなセルをつくってみたりしてみましょう。"
   ]
  },
  {
   "cell_type": "code",
   "execution_count": 10,
   "metadata": {
    "collapsed": false
   },
   "outputs": [
    {
     "name": "stdout",
     "output_type": "stream",
     "text": [
      " Hello, World! No. 0\n",
      "Hello, World! No. 1\n",
      "Hello, World! No. 2\n",
      "Hello, World! No. 3\n",
      "Hello, World! No. 4\n",
      "Hello, World! No. 5\n",
      "Hello, World! No. 6\n",
      "Hello, World! No. 7\n",
      "Hello, World! No. 8\n",
      "Hello, World! No. 9\n"
     ]
    }
   ],
   "source": [
    "for i in range(10):\n",
    "    print \"Hello, World! No. %d\" % i"
   ]
  },
  {
   "cell_type": "markdown",
   "metadata": {},
   "source": [
    "## Pythonプログラムの実行"
   ]
  },
  {
   "cell_type": "raw",
   "metadata": {},
   "source": [
    "前節では1+2をprintすることができました。もう少し掘り下げてみましょう。\n",
    "\n",
    "ノートブック上では、カーネルを再起動（ツールバーの更新マークから可能）するまでは変数等が保存されます。\n",
    "例えば、以下のようにimport, 変数定義をしたコード上でShift-Enterしてみましょう。"
   ]
  },
  {
   "cell_type": "code",
   "execution_count": 5,
   "metadata": {
    "collapsed": true
   },
   "outputs": [],
   "source": [
    "import math\n",
    "a= 1\n",
    "# この時点でmathがimportされ、aに1が代入されている"
   ]
  },
  {
   "cell_type": "raw",
   "metadata": {},
   "source": [
    "以下を実行(Shift-Enter)すると、importと変数定義がしっかりなされていることがわかりますね。"
   ]
  },
  {
   "cell_type": "code",
   "execution_count": 6,
   "metadata": {
    "collapsed": false
   },
   "outputs": [
    {
     "name": "stdout",
     "output_type": "stream",
     "text": [
      "3.14159265359\n",
      "1\n"
     ]
    }
   ],
   "source": [
    "print math.pi\n",
    "print a"
   ]
  },
  {
   "cell_type": "markdown",
   "metadata": {
    "collapsed": true
   },
   "source": [
    "## その他参考になりそうなこと\n",
    "* [公式サイト](http://ipython.org/index.html\"\")\n",
    "* プログラムを中断したいときは通常ならCtrl-Cを実行しますが、IPython Notebook上ではツールバーの停止マーク■を使います。\n",
    "* ショートカットは[こちら](https://ipython.org/ipython-doc/1/interactive/notebook.html#keyboard-shortcuts\"Keyboard-shortcuts\")を参照\n"
   ]
  }
 ],
 "metadata": {
  "kernelspec": {
   "display_name": "Python 2",
   "language": "python",
   "name": "python2"
  },
  "language_info": {
   "codemirror_mode": {
    "name": "ipython",
    "version": 2
   },
   "file_extension": ".py",
   "mimetype": "text/x-python",
   "name": "python",
   "nbconvert_exporter": "python",
   "pygments_lexer": "ipython2",
   "version": "2.7.6"
  }
 },
 "nbformat": 4,
 "nbformat_minor": 0
}
