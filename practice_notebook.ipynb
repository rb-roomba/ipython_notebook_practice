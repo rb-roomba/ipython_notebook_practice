{
 "cells": [
  {
   "cell_type": "markdown",
   "metadata": {},
   "source": [
    "# IPython Notebookの練習"
   ]
  },
  {
   "cell_type": "markdown",
   "metadata": {},
   "source": [
    "## はじめに"
   ]
  },
  {
   "cell_type": "raw",
   "metadata": {},
   "source": [
    "IPython Notebookは、ブラウザ上でインタラクティブにPythonのプログラムを実行できる、ノートのようなものです。\n",
    "10分で最低限を学びましょう。"
   ]
  },
  {
   "cell_type": "markdown",
   "metadata": {},
   "source": [
    "## セルについて"
   ]
  },
  {
   "cell_type": "raw",
   "metadata": {},
   "source": [
    "ノートブックは「セル」から構成されています。この文章が書かれている領域も「セル」のひとつです。\n",
    "セルにはいくつかの種類があり、この文章の領域は「Raw NBConvert」という種類であることが画面上部のツールバーから分かります。\n",
    "「Markdown」「Code」といった種類もあり、Markdown記法のテキストやPythonのコードを挿入することができるようになっています。"
   ]
  },
  {
   "cell_type": "markdown",
   "metadata": {},
   "source": [
    "たとえば、Markdown記法のセルはこの領域のようになります。このノートブックの見出し（タイトルの「IPython Notebookの練習」・見出し「はじめに」「セルについて」など）もMarkdown記法のセルを用いています。\n",
    "[リンク（Markdown-Wikipedia）](https://ja.wikipedia.org/wiki/Markdown)\n",
    "を挿入したり、*強調*したり、線をひいたり↓といったことが可能です。\n",
    "\n",
    "--- "
   ]
  },
  {
   "cell_type": "raw",
   "metadata": {},
   "source": [
    "「Code」のセルでは、Pythonをその場で実行することができます。\n",
    "例えば、下のセルにカーソルを合わせた状態でShift-Enter（Shiftキーを押しながらエンターキーを押す）すると、3という数字が表示されると思います。"
   ]
  },
  {
   "cell_type": "code",
   "execution_count": 1,
   "metadata": {
    "collapsed": false
   },
   "outputs": [
    {
     "name": "stdout",
     "output_type": "stream",
     "text": [
      "3\n"
     ]
    }
   ],
   "source": [
    "print 1+2"
   ]
  },
  {
   "cell_type": "raw",
   "metadata": {},
   "source": [
    "それぞれのセルは自由に編集することができます。また、画面上部のInsertから自由に挿入することもできます。\n",
    "試しに以下のコードを編集したり、新たなセルをつくってみたりしてみましょう。"
   ]
  },
  {
   "cell_type": "code",
   "execution_count": 2,
   "metadata": {
    "collapsed": false
   },
   "outputs": [
    {
     "name": "stdout",
     "output_type": "stream",
     "text": [
      "Hello, World! No. 0\n",
      "Hello, World! No. 1\n",
      "Hello, World! No. 2\n",
      "Hello, World! No. 3\n",
      "Hello, World! No. 4\n",
      "Hello, World! No. 5\n",
      "Hello, World! No. 6\n",
      "Hello, World! No. 7\n",
      "Hello, World! No. 8\n",
      "Hello, World! No. 9\n"
     ]
    }
   ],
   "source": [
    "for i in range(10):\n",
    "    print \"Hello, World! No. %d\" % i"
   ]
  },
  {
   "cell_type": "markdown",
   "metadata": {},
   "source": [
    "## Pythonプログラムの実行"
   ]
  },
  {
   "cell_type": "raw",
   "metadata": {},
   "source": [
    "前節では1+2をprintすることができました。もう少し掘り下げてみましょう。\n",
    "\n",
    "ノートブック上では、カーネルを再起動（ツールバーの更新マークから可能）するまでは変数等が保存されます。\n",
    "例えば、以下のようにimport, 変数定義をしたコード上でShift-Enterしてみましょう。"
   ]
  },
  {
   "cell_type": "code",
   "execution_count": 3,
   "metadata": {
    "collapsed": true
   },
   "outputs": [],
   "source": [
    "import math\n",
    "a= 1\n",
    "# この時点でmathがimportされ、aに1が代入されている"
   ]
  },
  {
   "cell_type": "raw",
   "metadata": {},
   "source": [
    "以下を実行(Shift-Enter)すると、importと変数定義がしっかりなされていることがわかりますね。"
   ]
  },
  {
   "cell_type": "code",
   "execution_count": 4,
   "metadata": {
    "collapsed": false
   },
   "outputs": [
    {
     "name": "stdout",
     "output_type": "stream",
     "text": [
      "3.14159265359\n",
      "1\n"
     ]
    }
   ],
   "source": [
    "print math.pi\n",
    "print a"
   ]
  },
  {
   "cell_type": "markdown",
   "metadata": {},
   "source": [
    "## 画像の挿入"
   ]
  },
  {
   "cell_type": "raw",
   "metadata": {},
   "source": [
    "以下のようにして画像を挿入することもできます。"
   ]
  },
  {
   "cell_type": "code",
   "execution_count": 5,
   "metadata": {
    "collapsed": false
   },
   "outputs": [
    {
     "data": {
      "image/jpeg": "[encoded data removed]",
      "text/plain": [
       "<IPython.core.display.Image object>"
      ]
     },
     "metadata": {},
     "output_type": "display_data"
    },
    {
     "data": {
      "image/jpeg": "[encoded data removed]",
      "text/plain": [
       "<IPython.core.display.Image object>"
      ]
     },
     "metadata": {},
     "output_type": "display_data"
    }
   ],
   "source": [
    "from IPython.display import display, Image\n",
    "display(Image(filename=\"fig1.jpg\"))\n",
    "display(Image(filename=\"fig2.jpg\"))"
   ]
  },
  {
   "cell_type": "markdown",
   "metadata": {},
   "source": [
    "## グラフの挿入（Matplotlib）\n",
    "グラフを挿入するにはmatplotlibが必要です。以下のプログラムでは数値計算ライブラリのnumpyも使用しています。\n",
    "\n",
    "インストール方法は[matplotlib公式サイト](http://matplotlib.org/users/installing.html), [numpy公式サイト](http://www.scipy.org/scipylib/download.html)参照。"
   ]
  },
  {
   "cell_type": "code",
   "execution_count": 6,
   "metadata": {
    "collapsed": false
   },
   "outputs": [],
   "source": [
    "%matplotlib inline # この行をコメントアウトすると別ウィンドウでグラフが表示される\n",
    "import matplotlib.pyplot as plt\n",
    "import numpy as np\n",
    "\n",
    "random_data = np.random.randn(100, 100)\n",
    "plt.imshow(random_data, interpolation='none')\n",
    "plt.show()"
   ]
  },
  {
   "cell_type": "markdown",
   "metadata": {
    "collapsed": true
   },
   "source": [
    "## その他参考になりそうなこと\n",
    "* [公式サイト](http://ipython.org/index.html\"\")\n",
    "* プログラムを中断したいときは通常ならCtrl-Cを実行しますが、IPython Notebook上ではツールバーの停止マーク■を使います。\n",
    "* Pythonのコードの左横に「In [(数字)]:」というように実行順が表示されています。この数字部分が*になっている間はプログラムの実行中です。 \n",
    "* ショートカットは[こちら](https://ipython.org/ipython-doc/1/interactive/notebook.html#keyboard-shortcuts\"Keyboard-shortcuts\")を参照"
   ]
  }
 ],
 "metadata": {
  "kernelspec": {
   "display_name": "Python 2",
   "language": "python",
   "name": "python2"
  },
  "language_info": {
   "codemirror_mode": {
    "name": "ipython",
    "version": 2
   },
   "file_extension": ".py",
   "mimetype": "text/x-python",
   "name": "python",
   "nbconvert_exporter": "python",
   "pygments_lexer": "ipython2",
   "version": "2.7.6"
  }
 },
 "nbformat": 4,
 "nbformat_minor": 0
}
